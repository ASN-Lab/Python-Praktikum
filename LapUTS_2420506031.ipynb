{
  "nbformat": 4,
  "nbformat_minor": 0,
  "metadata": {
    "colab": {
      "provenance": [],
      "authorship_tag": "ABX9TyM4oaxOMF0DYBp6X8Oei0LK",
      "include_colab_link": true
    },
    "kernelspec": {
      "name": "python3",
      "display_name": "Python 3"
    },
    "language_info": {
      "name": "python"
    }
  },
  "cells": [
    {
      "cell_type": "markdown",
      "metadata": {
        "id": "view-in-github",
        "colab_type": "text"
      },
      "source": [
        "<a href=\"https://colab.research.google.com/github/ASN-Lab/Python-Praktikum/blob/main/LapUTS_2420506031.ipynb\" target=\"_parent\"><img src=\"https://colab.research.google.com/assets/colab-badge.svg\" alt=\"Open In Colab\"/></a>"
      ]
    },
    {
      "cell_type": "markdown",
      "source": [
        "# **Laporan Praktikum Live Coding**"
      ],
      "metadata": {
        "id": "Q6vdWiYflnXH"
      }
    },
    {
      "cell_type": "code",
      "execution_count": 2,
      "metadata": {
        "colab": {
          "base_uri": "https://localhost:8080/"
        },
        "id": "GDmFpkP2gIUZ",
        "outputId": "ec6f08f5-729c-46df-e5cb-ae0846cb7a2f"
      },
      "outputs": [
        {
          "output_type": "stream",
          "name": "stdout",
          "text": [
            "Pendeteksi jumlah bilangan ganjil dan genap pada NPM\n",
            "\n",
            "Masukkan NPM anda: 2420506031\n",
            "Jumlah bilangan ganjil adalah: 3\n",
            "Jumlah bilangan genap adalah: 7\n"
          ]
        }
      ],
      "source": [
        "# Soal 1\n",
        "print (\"Pendeteksi jumlah bilangan ganjil dan genap pada NPM\\n\")  # judul program\n",
        "\n",
        "# Buat fungsi untuk menghitung jumlah bilangan ganjil dan genap dalam NPM\n",
        "def jumlah_bilangan(npm):\n",
        "  # Inisialisasi untuk bilangan ganjil dan genap\n",
        "  bilangan_ganjil = 0\n",
        "  bilangan_genap = 0\n",
        "\n",
        "  # Pengulangan instruksi setiap angka dalam NPM\n",
        "  for angka in str(npm):\n",
        "    # Cek apakah angka tersebut genap\n",
        "    if int(angka) % 2 == 0:\n",
        "      # Jika genap, tambahkan ke variabel bilangan_genap\n",
        "      bilangan_genap\n",
        "      bilangan_genap += 1\n",
        "    else:\n",
        "      # Jika ganjil, tambahkan ke variabel ganjil bilangan_ganjil\n",
        "      bilangan_ganjil += 1\n",
        "  # Mengembalikan hasil hitungan bilangan ganjil dan genap\n",
        "  return bilangan_ganjil, bilangan_genap\n",
        "\n",
        "# Menginputkan data berupa NPM\n",
        "npm = int(input (\"Masukkan NPM anda: \"))\n",
        "# Memanggil fungsi untuk menghitung bilangan ganjil dan genap\n",
        "ganjil, genap = jumlah_bilangan(npm)\n",
        "# Cetak hasil\n",
        "print (f\"Jumlah bilangan ganjil adalah: {ganjil}\")\n",
        "print (f\"Jumlah bilangan genap adalah: {genap}\")\n"
      ]
    },
    {
      "cell_type": "markdown",
      "source": [
        "**Pembahasan soal pertama**\n",
        "\n",
        "Program dari soal pertama bertujuan untuk menghitung jumlah antara bilangan ganjil dan genap dalam sebuah NPM. Program ini menggunakan sebuah fungsi ***jumlah_bilangan*** yang mengambil data dari NPM yang diinputkan dan mengembalikan hasil hitungan bilangan ganjil dan genap. Fungsi ini memeriksa setiap angka dalam NPM, memeriksa apakah angka tersebut genap atau ganjil, dan menambahkan ke variabel yang sesuai, kemudian memanggil fungsi untuk mencetak hasilnya.\n"
      ],
      "metadata": {
        "id": "BMF8A_ZRl6tG"
      }
    },
    {
      "cell_type": "code",
      "source": [
        "# Soal 2\n",
        "print (\"Segitiga Angka dan Jumlah Kelipatan Tiap Baris\\n\")  # judul program\n",
        "\n",
        "# Menginputkan jumlah baris dari segitiga angka\n",
        "segitiga_angka = int(input(\"Jumlah baris: \"))\n",
        "\n",
        "# Pengulangan setiap baris\n",
        "for i in range(1, segitiga_angka + 1):\n",
        "  # Pengulangan setiap kolom dalam baris\n",
        "  for j in range(1, i + 1):\n",
        "    # Cetak hasil perkalian baris dan kolom\n",
        "    print(j * i, end=\" \")\n",
        "  # Pindah ke baris berikutnya setelah setiap baris\n",
        "  print()"
      ],
      "metadata": {
        "colab": {
          "base_uri": "https://localhost:8080/"
        },
        "id": "5qV-4POcPGWE",
        "outputId": "8cd0f51e-ac55-4a91-cc2a-7d74bd7159e6"
      },
      "execution_count": 3,
      "outputs": [
        {
          "output_type": "stream",
          "name": "stdout",
          "text": [
            "Segitiga Angka dan Jumlah Kelipatan Tiap Baris\n",
            "\n",
            "Jumlah baris: 5\n",
            "1 \n",
            "2 4 \n",
            "3 6 9 \n",
            "4 8 12 16 \n",
            "5 10 15 20 25 \n"
          ]
        }
      ]
    },
    {
      "cell_type": "markdown",
      "source": [
        "**Pembahasan Soal Kedua**\n",
        "\n",
        "Program dari soal kedua bertujuan untuk mencetak segitiga angka yang setiap barisnya berisi hasil perkalian antara baris dan kolom. Program ini mendapatkan jumlah baris dari data yang diinputkan dan kemudian menggunakan loop bersarang untuk mengulangi proses pada setiap baris dan kolom. Pada setiap perulangan, program mencetak hasil perkalian baris dan kolom, dan pindah ke baris berikutnya setelah setiap baris sesuai dengan jumlah baris yang sudah diinputkan sebelumnya."
      ],
      "metadata": {
        "id": "-bTQA_a8P53t"
      }
    }
  ]
}