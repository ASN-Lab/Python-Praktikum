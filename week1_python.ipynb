{
  "nbformat": 4,
  "nbformat_minor": 0,
  "metadata": {
    "colab": {
      "provenance": [],
      "authorship_tag": "ABX9TyPOwsG/QHsWPDY4UtSvDoJR",
      "include_colab_link": true
    },
    "kernelspec": {
      "name": "python3",
      "display_name": "Python 3"
    },
    "language_info": {
      "name": "python"
    }
  },
  "cells": [
    {
      "cell_type": "markdown",
      "metadata": {
        "id": "view-in-github",
        "colab_type": "text"
      },
      "source": [
        "<a href=\"https://colab.research.google.com/github/ASN-Lab/Python-Praktikum/blob/main/week1_python.ipynb\" target=\"_parent\"><img src=\"https://colab.research.google.com/assets/colab-badge.svg\" alt=\"Open In Colab\"/></a>"
      ]
    },
    {
      "cell_type": "markdown",
      "source": [
        "# **Dasar-dasar Bahasa Pemrograman Python**"
      ],
      "metadata": {
        "id": "sf_q0BtRy7VT"
      }
    },
    {
      "cell_type": "code",
      "source": [
        "print (\"Hello, World!\") # Menampilkan text"
      ],
      "metadata": {
        "colab": {
          "base_uri": "https://localhost:8080/"
        },
        "id": "p28A-ni0yG7M",
        "outputId": "e61c1ea2-4a0f-4f36-a410-a1f64ec172da"
      },
      "execution_count": null,
      "outputs": [
        {
          "output_type": "stream",
          "name": "stdout",
          "text": [
            "Hello, World!\n"
          ]
        }
      ]
    },
    {
      "cell_type": "code",
      "source": [
        "import sys # Cek versi Python\n",
        "print (sys.version)"
      ],
      "metadata": {
        "colab": {
          "base_uri": "https://localhost:8080/"
        },
        "id": "xj0kUhPFySWE",
        "outputId": "1740008f-8a6f-4538-bfde-8204525b0e2f"
      },
      "execution_count": null,
      "outputs": [
        {
          "output_type": "stream",
          "name": "stdout",
          "text": [
            "3.10.12 (main, Jul 29 2024, 16:56:48) [GCC 11.4.0]\n"
          ]
        }
      ]
    },
    {
      "cell_type": "code",
      "source": [
        "print (\"Hello World\")# Komentar ini tidak akan ditampilkan"
      ],
      "metadata": {
        "colab": {
          "base_uri": "https://localhost:8080/"
        },
        "id": "dd1KQtc_yboY",
        "outputId": "e78efe08-7400-4d76-cc73-bcb94cf8f9d3"
      },
      "execution_count": null,
      "outputs": [
        {
          "output_type": "stream",
          "name": "stdout",
          "text": [
            "Hello World\n"
          ]
        }
      ]
    },
    {
      "cell_type": "code",
      "source": [
        "# Contoh penulisan yang salah yang menyebabkan Error\n",
        "\n",
        "frint(\"Hello, Python!\")\n",
        "frint(\"Hello, Python!r\")\n",
        "print(\"Hello, Python!"
      ],
      "metadata": {
        "colab": {
          "base_uri": "https://localhost:8080/",
          "height": 129
        },
        "id": "1MlJXKs5yh2O",
        "outputId": "9a9b6168-2c09-47d5-b0e0-3d519b40f36a"
      },
      "execution_count": null,
      "outputs": [
        {
          "output_type": "error",
          "ename": "SyntaxError",
          "evalue": "unterminated string literal (detected at line 5) (<ipython-input-16-585836f51d0b>, line 5)",
          "traceback": [
            "\u001b[0;36m  File \u001b[0;32m\"<ipython-input-16-585836f51d0b>\"\u001b[0;36m, line \u001b[0;32m5\u001b[0m\n\u001b[0;31m    print(\"Hello, Python!\u001b[0m\n\u001b[0m          ^\u001b[0m\n\u001b[0;31mSyntaxError\u001b[0m\u001b[0;31m:\u001b[0m unterminated string literal (detected at line 5)\n"
          ]
        }
      ]
    },
    {
      "cell_type": "markdown",
      "source": [
        "# **Latihan**"
      ],
      "metadata": {
        "id": "3ZA-eb_kyzNK"
      }
    },
    {
      "cell_type": "code",
      "source": [
        "# Program untuk menampilkan biodata\n",
        "print(\"Nama          : Aldiyan Setyo Nugroho\")\n",
        "print(\"NPM           : 2420506031\")\n",
        "print(\"Alamat        : Temanggung\")\n",
        "print(\"Tinggi Badan  : 170.0\")\n",
        "print(\"Berat Badan   : 65.0\")\n"
      ],
      "metadata": {
        "colab": {
          "base_uri": "https://localhost:8080/"
        },
        "id": "0oMz6jl7yw3U",
        "outputId": "ff1b786d-acad-4335-b652-40e06e9e7092"
      },
      "execution_count": null,
      "outputs": [
        {
          "output_type": "stream",
          "name": "stdout",
          "text": [
            "Nama          : Aldiyan Setyo Nugroho\n",
            "NPM           : 2420506031\n",
            "Alamat        : Temanggung\n",
            "Tinggi Badan  : 170.0\n",
            "Berat Badan   : 65.0\n"
          ]
        }
      ]
    },
    {
      "cell_type": "code",
      "source": [
        "# Program untuk menampilkan informasi Universitas Tidar\n",
        "print(\"UNIVERSITAS TIDAR\")\n",
        "print(\"Universitas Tidar merupakan Perguruan Tinggi Pemerintah atau Perguruan Tinggi Negeri yang telah ditetapkan berdasarkan Peraturan Presiden Republik Indonesia Nomor 23 Tahun 2014 pada tanggal 1 April 2014.\")\n",
        "print(\"\\nJURUSAN TEKNIK ELEKTRO, MEKATRONIKA DAN INFORMASI\")\n",
        "print(\"Jurusan Teknik Elektro terdiri atas tiga program studi, antara lain:\")\n",
        "print(\"    1. S1 Teknik Elektro (Bachelor of Electrical Engineering)\")\n",
        "print(\"    2. S1 Teknologi Informasi (Bachelor of Information Technology)\")\n",
        "print(\"    3. S1 Teknik Mekatronika (Bachelor of Mechatronics Engineering)\")\n",
        "print(\"\\nCopyright © Prodi Teknologi Informasi - Universitas Tidar.\")\n"
      ],
      "metadata": {
        "colab": {
          "base_uri": "https://localhost:8080/"
        },
        "id": "FZhud6lOrH1d",
        "outputId": "8f101e02-2f42-40e2-a40c-fcda2783e02d"
      },
      "execution_count": null,
      "outputs": [
        {
          "output_type": "stream",
          "name": "stdout",
          "text": [
            "UNIVERSITAS TIDAR\n",
            "Universitas Tidar merupakan Perguruan Tinggi Pemerintah atau Perguruan Tinggi Negeri yang telah ditetapkan berdasarkan Peraturan Presiden Republik Indonesia Nomor 23 Tahun 2014 pada tanggal 1 April 2014.\n",
            "\n",
            "JURUSAN TEKNIK ELEKTRO, MEKATRONIKA DAN INFORMASI\n",
            "Jurusan Teknik Elektro terdiri atas tiga program studi, antara lain:\n",
            "    1. S1 Teknik Elektro (Bachelor of Electrical Engineering)\n",
            "    2. S1 Teknologi Informasi (Bachelor of Information Technology)\n",
            "    3. S1 Teknik Mekatronika (Bachelor of Mechatronics Engineering)\n",
            "\n",
            "Copyright © Prodi Teknologi Informasi - Universitas Tidar.\n"
          ]
        }
      ]
    }
  ]
}