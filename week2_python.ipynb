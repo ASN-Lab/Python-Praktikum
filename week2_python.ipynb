{
  "nbformat": 4,
  "nbformat_minor": 0,
  "metadata": {
    "colab": {
      "provenance": [],
      "authorship_tag": "ABX9TyMbulWyPYXXHlCJ7jFi7a9l",
      "include_colab_link": true
    },
    "kernelspec": {
      "name": "python3",
      "display_name": "Python 3"
    },
    "language_info": {
      "name": "python"
    }
  },
  "cells": [
    {
      "cell_type": "markdown",
      "metadata": {
        "id": "view-in-github",
        "colab_type": "text"
      },
      "source": [
        "<a href=\"https://colab.research.google.com/github/ASN-Lab/Python-Praktikum/blob/main/week2_python.ipynb\" target=\"_parent\"><img src=\"https://colab.research.google.com/assets/colab-badge.svg\" alt=\"Open In Colab\"/></a>"
      ]
    },
    {
      "cell_type": "markdown",
      "source": [
        "# **Tipe Data di Python**"
      ],
      "metadata": {
        "id": "cNoefASoLCK7"
      }
    },
    {
      "cell_type": "code",
      "execution_count": null,
      "metadata": {
        "id": "fdDtyyVxj7ZN"
      },
      "outputs": [],
      "source": [
        "# Integer positif\n",
        "a = 10\n",
        "\n",
        "# Integer negatif\n",
        "b = -5\n",
        "\n",
        "# Nol\n",
        "c = 0\n",
        "\n",
        "# String dengan tanda kutip ganda\n",
        "nama = \"Aldiyan\"\n",
        "\n",
        "# String dengan tanda kutip tunggal\n",
        "pesan = 'Halo, dunia!'\n",
        "\n",
        "# String kosong\n",
        "kosong = \"\"\n",
        "\n",
        "# Float positif\n",
        "x = 10.5\n",
        "\n",
        "# Float negatif\n",
        "y = -2.75\n",
        "\n",
        "# Float nol\n",
        "z = 0.0"
      ]
    },
    {
      "cell_type": "markdown",
      "source": [
        "# **Merubah Nilai Data**"
      ],
      "metadata": {
        "id": "IBqwqxVcLcZ8"
      }
    },
    {
      "cell_type": "code",
      "source": [
        "# Mengubah nilai integer\n",
        "x = 10  # x awalnya 10\n",
        "x = 20  # x diubah menjadi 20\n",
        "\n",
        "# Mengubah nilai string\n",
        "nama = \"Aldiyan\"  # nama awalnya berisi \"Aldiyan\"\n",
        "nama = \"Setyo\"    # nama diubah menjadi \"Setyo\"\n",
        "\n",
        "# Mengubah nilai float\n",
        "pi = 3.14  # pi awalnya 3.14\n",
        "pi = 3.14159  # pi diubah menjadi 3.14159"
      ],
      "metadata": {
        "id": "6yn3nVlGLjLS"
      },
      "execution_count": null,
      "outputs": []
    },
    {
      "cell_type": "markdown",
      "source": [
        "# **Mengubah Nilai Data ke Tipe yang Berbeda**"
      ],
      "metadata": {
        "id": "CTQJwbxnLv5y"
      }
    },
    {
      "cell_type": "code",
      "source": [
        "# Mengubah integer menjadi string\n",
        "x = 10  # x adalah integer\n",
        "x = str(x)  # Sekarang x adalah string \"10\"\n",
        "\n",
        "# Mengubah string menjadi float\n",
        "angka = \"3.14\"  # angka adalah string\n",
        "angka = float(angka)  # Sekarang angka adalah float 3.14\n",
        "\n",
        "# Mengubah float menjadi integer\n",
        "y = 7.9  # y adalah float\n",
        "y = int(y)  # Sekarang y adalah integer 7 (bagian desimal dibuang)"
      ],
      "metadata": {
        "id": "OBf5EiDPL33E"
      },
      "execution_count": null,
      "outputs": []
    },
    {
      "cell_type": "markdown",
      "source": [
        "# **Error Dalam Pengubahan Nilai Data ke Tipe Data yang Berbeda**"
      ],
      "metadata": {
        "id": "PdO_lT-0MCoC"
      }
    },
    {
      "cell_type": "markdown",
      "source": [
        "**Perubahan nilai yang tidak valid:**"
      ],
      "metadata": {
        "id": "NbvuFc4QMKnl"
      }
    },
    {
      "cell_type": "code",
      "source": [
        "# mengubah tipe data string ke integer\n",
        "\n",
        "x = \"hello\"\n",
        "y = int(x)\n",
        "\n",
        "print(x)"
      ],
      "metadata": {
        "id": "qEA8kMnVMTN2"
      },
      "execution_count": null,
      "outputs": []
    },
    {
      "cell_type": "markdown",
      "source": [
        "**Perubahan nilai yang tidak sesuai dengan konteks:**"
      ],
      "metadata": {
        "id": "9u4ZhCxaMgT7"
      }
    },
    {
      "cell_type": "code",
      "source": [
        "# mengubah nilai dari tipe data float, menjadi integer\n",
        "x = 3.14\n",
        "y = int(x)  # menghapus nilai yang semula desimal menjadi bilangan bulat\n",
        "print(y)"
      ],
      "metadata": {
        "id": "dfs6DxkEMnDq"
      },
      "execution_count": null,
      "outputs": []
    },
    {
      "cell_type": "markdown",
      "source": [
        "**Perubahan nilai yang tidak diizinkan:**"
      ],
      "metadata": {
        "id": "kQJM6rhfMth7"
      }
    },
    {
      "cell_type": "code",
      "source": [
        "# perubahan yang tidak diizinkan\n",
        "x = (1, 2, 3)\n",
        "y = list(x)  # untuk line ini masih diizinkan\n",
        "z = x.append(4)  # line ini akan menyebabkan error"
      ],
      "metadata": {
        "id": "DnvOTqxzMxRk"
      },
      "execution_count": null,
      "outputs": []
    },
    {
      "cell_type": "markdown",
      "source": [
        "# **Merubah Tipe Data**"
      ],
      "metadata": {
        "id": "APcpijHEM2ZQ"
      }
    },
    {
      "cell_type": "markdown",
      "source": [
        "**String -> Integer**"
      ],
      "metadata": {
        "id": "SoAjIxUxNlTB"
      }
    },
    {
      "cell_type": "code",
      "source": [
        "# merubah string ke integer\n",
        "angka_str = \"25\"\n",
        "angka_int = int(angka_str)  # Sekarang variabel angka_int adalah integer 25"
      ],
      "metadata": {
        "id": "8eNENyWiOJgE"
      },
      "execution_count": null,
      "outputs": []
    },
    {
      "cell_type": "markdown",
      "source": [
        "**Integer->String**"
      ],
      "metadata": {
        "id": "LXor3klfNpt1"
      }
    },
    {
      "cell_type": "code",
      "source": [
        "# mengubah integer ke string\n",
        "usia = 20\n",
        "usia_str = str(usia)  # Sekarang variabel usia_str adalah string \"20\""
      ],
      "metadata": {
        "id": "GMIG6jM-ONvc"
      },
      "execution_count": null,
      "outputs": []
    },
    {
      "cell_type": "markdown",
      "source": [
        "**Integer->Float**"
      ],
      "metadata": {
        "id": "000yZfyzOEb9"
      }
    },
    {
      "cell_type": "code",
      "source": [
        "# merubah integer ke float\n",
        "nilai = 10\n",
        "nilai_float = float(nilai)  # Sekarang variabel nilai_float adalah float 10.0"
      ],
      "metadata": {
        "id": "FqM1iEa0OP8y"
      },
      "execution_count": null,
      "outputs": []
    },
    {
      "cell_type": "markdown",
      "source": [
        "# **Boolean**"
      ],
      "metadata": {
        "id": "pv0tyHt2OaxF"
      }
    },
    {
      "cell_type": "markdown",
      "source": [
        "Untuk mempresentasikan nilai Booleaan menggunakan true dan false.\n",
        "\n",
        "*   True: Merepresentasikan kondisi yang benar.\n",
        "\n",
        "*  False: Merepresentasikan kondisi yang salah."
      ],
      "metadata": {
        "id": "pVeW-GKVOieM"
      }
    },
    {
      "cell_type": "markdown",
      "source": [
        "Operasi perbandingan digunakan untuk membandingkan dua nilai atau variabel. Hasil dari operasi ini adalah nilai Boolean (True atau False)."
      ],
      "metadata": {
        "id": "3BCSJwtsPBFb"
      }
    },
    {
      "cell_type": "code",
      "source": [
        "# Operasi perbandingan\n",
        "x = 10\n",
        "y = 5\n",
        "\n",
        "print(x > y)   # True (karena 10 lebih besar dari 5)\n",
        "print(x == y)  # False (karena 10 tidak sama dengan 5)\n",
        "print(x < y)   # False (karena 10 tidak lebih kecil dari 5)"
      ],
      "metadata": {
        "id": "-Ac9pqFaPE7z"
      },
      "execution_count": null,
      "outputs": []
    },
    {
      "cell_type": "markdown",
      "source": [
        "Python menyediakan operasi logika seperti and, or, dan not untuk menggabungkan atau memodifikasi nilai Boolean.\n",
        "\n",
        "\n",
        "*   `and`: Mengembalikan True jika kedua operand bernilai `True`.\n",
        "*   `or`: Mengembalikan True jika salah satu operand bernilai `True`.\n",
        "*   `not`: Mengembalikan negasi dari nilai Boolean (mengubah `True` menjadi `False` dan sebaliknya)."
      ],
      "metadata": {
        "id": "J80t9GXMPJM5"
      }
    },
    {
      "cell_type": "code",
      "source": [
        "# Operasi logika\n",
        "a = True\n",
        "b = False\n",
        "\n",
        "print(a and b)  # False (karena salah satu operand adalah False)\n",
        "print(a or b)   # True (karena salah satu operand adalah True)\n",
        "print(not a)    # False (karena negasi dari True adalah False)"
      ],
      "metadata": {
        "id": "_c8EyqrMPKEI"
      },
      "execution_count": null,
      "outputs": []
    },
    {
      "cell_type": "markdown",
      "source": [
        "# **Boolean dalam Kondisi (Conditional Statements)**"
      ],
      "metadata": {
        "id": "AmqjfPuzTFR1"
      }
    },
    {
      "cell_type": "markdown",
      "source": [
        "Tipe data Boolean sering digunakan dalam pernyataan kondisional seperti `if`, `elif`, dan `else` untuk mengontrol alur program berdasarkan kondisi tertentu."
      ],
      "metadata": {
        "id": "7nNmQFSwTRwk"
      }
    },
    {
      "cell_type": "code",
      "source": [
        "nilai = 85\n",
        "\n",
        "if nilai >= 75:       # Pernyataan kondisi\n",
        "    print(\"Lulus\")    # Output: Lulus (karena kondisi True)\n",
        "else:\n",
        "    print(\"Tidak Lulus\")"
      ],
      "metadata": {
        "id": "0HJGbVZ4TaZb"
      },
      "execution_count": null,
      "outputs": []
    },
    {
      "cell_type": "markdown",
      "source": [
        "# **Konversi ke Boolean**"
      ],
      "metadata": {
        "id": "MK6AMLSsTl74"
      }
    },
    {
      "cell_type": "markdown",
      "source": [
        "Setiap nilai dalam Python dapat dikonversi menjadi Boolean menggunakan fungsi `bool()`. Nilai-nilai berikut dianggap `False` ketika dikonversi menjadi Boolean:\n",
        "\n",
        "\n",
        "*   Angka 0 (baik integer maupun float)\n",
        "*   String kosong `\"\"`\n",
        "*   List kosong `[]`\n",
        "*   Tuple kosong `()`\n",
        "*   Set kosong `set()`\n",
        "*   Dictionary kosong `{}`\n",
        "\n",
        "\n",
        "Sedangkan semua nilai lainnya dianggap `True`.\n",
        "\n",
        "\n"
      ],
      "metadata": {
        "id": "Q2FG4j2pTv9z"
      }
    },
    {
      "cell_type": "markdown",
      "source": [
        "# **Latihan Pemrograman**\n"
      ],
      "metadata": {
        "id": "qzbjF3ejUiFS"
      }
    },
    {
      "cell_type": "markdown",
      "source": [
        "**1. Latihan Pertama**\n",
        "\n",
        "Disini kita mendapat latihan untuk memperbaiki sebuah kodingan dan dapat dianalisis sebagai berikut:"
      ],
      "metadata": {
        "id": "FUEeJaLpUocp"
      }
    },
    {
      "cell_type": "code",
      "source": [
        "# kodingan awal dari soal\n",
        "panjang = 20,5\n",
        "lebar = 25\n",
        "tinggi = 10\n",
        "\n",
        "keliling = 2*(panjang+lebar)\n",
        "luas = panjang*/lebar\n",
        "volum = panjang*lebar*tiggi\n",
        "\n",
        "print(\"Panjang = \" + 'panjang')\n",
        "printl(\"Lebar = ' + lebar)\n",
        "print('Tinggi = \"  tinggi)\n",
        "printl(\"Keliling = \"  'kelling')\n",
        "print(\"Volume = \" + volume)"
      ],
      "metadata": {
        "colab": {
          "base_uri": "https://localhost:8080/",
          "height": 129
        },
        "id": "0dbfKO2QVJOO",
        "outputId": "2e7ed5e4-4760-4333-da50-d48e1c3bc572"
      },
      "execution_count": null,
      "outputs": [
        {
          "output_type": "error",
          "ename": "SyntaxError",
          "evalue": "unterminated string literal (detected at line 11) (<ipython-input-16-072798b6120f>, line 11)",
          "traceback": [
            "\u001b[0;36m  File \u001b[0;32m\"<ipython-input-16-072798b6120f>\"\u001b[0;36m, line \u001b[0;32m11\u001b[0m\n\u001b[0;31m    printl(\"Lebar = ' + lebar)\u001b[0m\n\u001b[0m           ^\u001b[0m\n\u001b[0;31mSyntaxError\u001b[0m\u001b[0;31m:\u001b[0m unterminated string literal (detected at line 11)\n"
          ]
        }
      ]
    },
    {
      "cell_type": "markdown",
      "source": [
        "1.   `panjang = 20,5 `seharusnya `panjang = 20.5` (gunakan titik\n",
        "sebagai pemisah bilangan desimal, bukan koma).\n",
        "\n",
        "2.  `luas = panjang*/lebar` seharusnya `luas = panjang * lebar `(hilangkan tanda / yang tidak perlu).\n",
        "\n",
        "3.  `volum = panjang*lebar*tiggi `seharusnya `volum = panjang * lebar * tinggi` (perbaiki ejaan tinggi).\n",
        "\n",
        "4.  Perintah `print` tidak ada yang memakai fungsi `string(str)` untuk mengubah data menjadi `string` dan ada beberapa kesalahan dalam penulisan.\n",
        "\n",
        "Dan penulisan ulang yang lebih tepat untuk kodingan di atas adalah sebagai berikut:"
      ],
      "metadata": {
        "id": "hOL4RCmZVL4R"
      }
    },
    {
      "cell_type": "code",
      "source": [
        "# kodingan yang sudah diperbaiki\n",
        "panjang = 20.5\n",
        "tinggi = 10\n",
        "\n",
        "keliling = 2 * (panjang + lebar)\n",
        "luas = panjang * lebar\n",
        "volume = panjang * lebar * tinggi\n",
        "\n",
        "print(\"Panjang = \" + str(panjang))\n",
        "print(\"Lebar = \" + str(lebar))\n",
        "print(\"Tinggi = \" + str(tinggi))\n",
        "print(\"Keliling = \" + str(keliling))\n",
        "print(\"Volume = \" + str(volume))"
      ],
      "metadata": {
        "colab": {
          "base_uri": "https://localhost:8080/"
        },
        "id": "bgsD5yFvWenv",
        "outputId": "89a8bc56-68ce-4c06-e2b5-7456fb29f46a"
      },
      "execution_count": null,
      "outputs": [
        {
          "output_type": "stream",
          "name": "stdout",
          "text": [
            "Panjang = 20.5\n",
            "Lebar = 25\n",
            "Tinggi = 10\n",
            "Keliling = 91.0\n",
            "Volume = 5125.0\n"
          ]
        }
      ]
    },
    {
      "cell_type": "markdown",
      "source": [
        "**2. Latihan Kedua**\n",
        "\n",
        "<img src=\"https://core-ruangguru.s3.amazonaws.com/assets/ruang_belajar/questions/q_9cagpe6808.PNG\" width=\"300\">\n",
        "</a> </p>\n",
        "Latihan kali ini meminta kita untuk membuat program untuk menampilkan data-data berikut berdasarkan nilai dari beberapa mahasiswa\n",
        "\n",
        "\n",
        "1.  Rata-rata nilai Shafira pada kedua mata kuliah.\n",
        "2.  Jumlah nilai Hanif dan Andi untuk semua mata kuliah.\n",
        "3.  Rata-rata nilai Widya, Dhanar, Hikma, dan Nedia pada masing-masing mata kuliah.\n",
        "4.  Rata-rata nilai mata kuliah Kalkulus 1 untuk semua mahasiswa.\n",
        "5.  Rata-rata nilai mata kuliah Metode Statistika untuk semua mahasiswa.\n",
        "\n",
        "Dan langsung saja, berikut adalah kodingan hasil menerapkan dasar-dasar Python untuk soal tadi:"
      ],
      "metadata": {
        "id": "s-TtFJgDWkvx"
      }
    },
    {
      "cell_type": "code",
      "source": [
        "# Data nilai mahasiswa\n",
        "data_mahasiswa = {\n",
        "    'Shafira': {'Kalkulus 1': 85, 'Metode Statistika': 75},\n",
        "    'Amanda': {'Kalkulus 1': 80, 'Metode Statistika': 90},\n",
        "    'Aditya': {'Kalkulus 1': 75, 'Metode Statistika': 80},\n",
        "    'Nedia': {'Kalkulus 1': 95, 'Metode Statistika': 80},\n",
        "    'Widya': {'Kalkulus 1': 85, 'Metode Statistika': 85},\n",
        "    'Hanif': {'Kalkulus 1': 75, 'Metode Statistika': 90},\n",
        "    'Andi': {'Kalkulus 1': 70, 'Metode Statistika': 75},\n",
        "    'Dhanar': {'Kalkulus 1': 85, 'Metode Statistika': 85},\n",
        "    'Hikma': {'Kalkulus 1': 80, 'Metode Statistika': 75},\n",
        "}\n",
        "\n",
        "# 1. Rata-rata nilai Shafira pada kedua mata kuli\n",
        "rata_shafira = (data_mahasiswa['Shafira']['Kalkulus 1'] + data_mahasiswa['Shafira']['Metode Statistika']) / 2\n",
        "print(f\"Rata-rata nilai Shafira: {rata_shafira}\")\n",
        "\n",
        "# 2. Jumlah nilai Hanif dan Andi untuk setiap mata kuliah\n",
        "jumlah_hanif_andi = (data_mahasiswa['Hanif']['Kalkulus 1'] + data_mahasiswa['Hanif']['Metode Statistika'] +\n",
        "                     data_mahasiswa['Andi']['Kalkulus 1'] + data_mahasiswa['Andi']['Metode Statistika'])\n",
        "print(f\"Jumlah nilai Hanif dan Andi: {jumlah_hanif_andi}\")\n",
        "\n",
        "# 3. Rata-rata nilai Widya, Dhanar, Hikma, dan Nedia pada masing-masing mata kuliah\n",
        "rata_kalkulus_4_mahasiswa = (data_mahasiswa['Widya']['Kalkulus 1'] + data_mahasiswa['Dhanar']['Kalkulus 1'] +\n",
        "                             data_mahasiswa['Hikma']['Kalkulus 1'] + data_mahasiswa['Nedia']['Kalkulus 1']) / 4\n",
        "rata_metode_4_mahasiswa = (data_mahasiswa['Widya']['Metode Statistika'] + data_mahasiswa['Dhanar']['Metode Statistika'] +\n",
        "                           data_mahasiswa['Hikma']['Metode Statistika'] + data_mahasiswa['Nedia']['Metode Statistika']) / 4\n",
        "print(f\"Rata-rata nilai Kalkulus 1 untuk Widya, Dhanar, Hikma, dan Nedia: {rata_kalkulus_4_mahasiswa}\")\n",
        "print(f\"Rata-rata nilai Metode Statistika untuk Widya, Dhanar, Hikma, dan Nedia: {rata_metode_4_mahasiswa}\")\n",
        "\n",
        "# 4. Rata-rata nilai mata kuliah Kalkulus 1 untuk setiap mahasiswa\n",
        "rata_kalkulus_setiap = sum([data_mahasiswa[mahasiswa]['Kalkulus 1'] for mahasiswa in data_mahasiswa]) / len(data_mahasiswa)\n",
        "print(f\"Rata-rata nilai Kalkulus 1 untuk setiap mahasiswa: {rata_kalkulus_setiap}\")\n",
        "\n",
        "# 5. Rata-rata nilai mata kuliah Metode Statistika untuk setiap mahasiswa\n",
        "rata_metode_setiap = sum([data_mahasiswa[mahasiswa]['Metode Statistika'] for mahasiswa in data_mahasiswa]) / len(data_mahasiswa)\n",
        "print(f\"Rata-rata nilai Metode Statistika untuk setiap mahasiswa: {rata_metode_setiap}\")"
      ],
      "metadata": {
        "colab": {
          "base_uri": "https://localhost:8080/"
        },
        "id": "e3oYHVyWY44d",
        "outputId": "7abda671-4133-4f35-8ac8-6f23c75cd7ae"
      },
      "execution_count": null,
      "outputs": [
        {
          "output_type": "stream",
          "name": "stdout",
          "text": [
            "Rata-rata nilai Shafira: 80.0\n",
            "Jumlah nilai Hanif dan Andi: 310\n",
            "Rata-rata nilai Kalkulus 1 untuk Widya, Dhanar, Hikma, dan Nedia: 86.25\n",
            "Rata-rata nilai Metode Statistika untuk Widya, Dhanar, Hikma, dan Nedia: 81.25\n",
            "Rata-rata nilai Kalkulus 1 untuk setiap mahasiswa: 81.11111111111111\n",
            "Rata-rata nilai Metode Statistika untuk setiap mahasiswa: 81.66666666666667\n"
          ]
        }
      ]
    },
    {
      "cell_type": "markdown",
      "source": [
        "\n",
        "**3. Latihan Ketiga**\n",
        "\n",
        "Diketahui Dwi adalah seorang karyawan pabrik swasta yang telah bekerja selama 10 tahun. Setiap hari Dwi bekerja selama 8 jam. Prosedur penerimaan honor dari perusahaan ditentukan dengan cara jumlah jam masuk dikali dengan Rp 30.000,-.\n",
        "\n",
        "Buat program untuk menghitung gaji karyawan berdasarkan data berikut:\n",
        "\n",
        "1.  Gaji pada bulan Agustus jika Dwi tidak masuk kerja selama 3 hari.\n",
        "2.  Tunjangan bagi karyawan yang bekerja lebih dari 5 tahun sebesar 10% dari total gaji.\n",
        "3.  Gaji total pada bulan Agustus jika Dwi mendapatkan tugas lembur selama 5 jam (upah lembur Rp 10.000,- per jam).\n",
        "\n",
        "Dari perintah latihan diatas dapat kita tuliskan ke dalam bahasa pemrograman python menjadi seperti berikut:"
      ],
      "metadata": {
        "id": "IcAZRXl-ZF7i"
      }
    },
    {
      "cell_type": "code",
      "source": [
        "# Data karyawan\n",
        "gaji_pokok = 5000000  # Gaji pokok per bulan dalam Rupiah\n",
        "hari_kerja = 22       # Jumlah hari kerja efektif dalam sebulan\n",
        "potongan_per_hari = gaji_pokok / hari_kerja  # Potongan per hari tidak masuk kerja\n",
        "\n",
        "# 1. Gaji pada bulan Agustus jika Dwi tidak masuk kerja selama 3 hari\n",
        "hari_tidak_masuk = 3\n",
        "potongan_gaji = potongan_per_hari * hari_tidak_masuk\n",
        "gaji_agustus = gaji_pokok - potongan_gaji\n",
        "print(f\"Gaji Dwi pada bulan Agustus (setelah potongan 3 hari): Rp {gaji_agustus:,.0f}\")\n",
        "\n",
        "# 2. Tunjangan bagi karyawan yang bekerja lebih dari 5 tahun sebesar 10% dari total gaji\n",
        "masa_kerja = 6  # Misalnya Dwi sudah bekerja selama 6 tahun\n",
        "tunjangan = 0\n",
        "if masa_kerja > 5:\n",
        "    tunjangan = 0.1 * gaji_agustus\n",
        "print(f\"Tunjangan untuk Dwi (masa kerja > 5 tahun): Rp {tunjangan:,.0f}\")\n",
        "\n",
        "# 3. Gaji total pada bulan Agustus jika Dwi mendapatkan tugas lembur selama 5 jam\n",
        "upah_lembur_per_jam = 10000\n",
        "jumlah_jam_lembur = 5\n",
        "upah_lembur = upah_lembur_per_jam * jumlah_jam_lembur\n",
        "gaji_total = gaji_agustus + tunjangan + upah_lembur\n",
        "print(f\"Gaji total Dwi pada bulan Agustus (termasuk lembur): Rp {gaji_total:,.0f}\")"
      ],
      "metadata": {
        "colab": {
          "base_uri": "https://localhost:8080/"
        },
        "id": "L9E5udzJZZVh",
        "outputId": "c4e5571a-f1be-447c-c386-f75012640b87"
      },
      "execution_count": null,
      "outputs": [
        {
          "output_type": "stream",
          "name": "stdout",
          "text": [
            "Gaji Dwi pada bulan Agustus (setelah potongan 3 hari): Rp 4,318,182\n",
            "Tunjangan untuk Dwi (masa kerja > 5 tahun): Rp 431,818\n",
            "Gaji total Dwi pada bulan Agustus (termasuk lembur): Rp 4,800,000\n"
          ]
        }
      ]
    },
    {
      "cell_type": "markdown",
      "source": [
        "# **Kesimpulan**\n",
        "\n",
        "Dengan memahami tipe data, ekspresi, dan variabel dalam Python sangat penting untuk mengembangkan kemampuan pemrograman. Dengan latihan yang cukup, kita dapat memanfaatkan konsep-konsep ini untuk membuat program yang efisien dan fungsional."
      ],
      "metadata": {
        "id": "WEzdqAXHZfKg"
      }
    }
  ]
}